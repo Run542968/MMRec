{
 "cells": [
  {
   "cell_type": "code",
   "execution_count": 5,
   "id": "eff5ee74",
   "metadata": {},
   "outputs": [
    {
     "name": "stdout",
     "output_type": "stream",
     "text": [
      "t-statistic: 7.3030\n",
      "p-value: 0.0019\n",
      "结论：两组结果存在显著差异\n"
     ]
    }
   ],
   "source": [
    "import numpy as np\n",
    "from scipy import stats\n",
    "\n",
    "# 假设 model_a 和 model_b 各运行了 5 次实验\n",
    "model_a = np.array([0.85, 0.87, 0.84, 0.86, 0.88])  # 准确率\n",
    "model_b = np.array([0.82, 0.83, 0.81, 0.80, 0.84])\n",
    "\n",
    "# 配对样本 t 检验（假设是同一数据集下交叉验证）\n",
    "t_statistic, p_value = stats.ttest_rel(model_a, model_b)\n",
    "\n",
    "print(f\"t-statistic: {t_statistic:.4f}\")\n",
    "print(f\"p-value: {p_value:.4f}\")\n",
    "\n",
    "if p_value < 0.05:\n",
    "    print(\"结论：两组结果存在显著差异\")\n",
    "else:\n",
    "    print(\"结论：两组结果无显著差异\")"
   ]
  },
  {
   "cell_type": "code",
   "execution_count": 30,
   "id": "170466b1",
   "metadata": {},
   "outputs": [
    {
     "name": "stdout",
     "output_type": "stream",
     "text": [
      "0.10218\n",
      "0.09988000000000001\n",
      "t-statistic: 9.8072\n",
      "p-value: 0.0006\n",
      "结论：两组结果存在显著差异\n"
     ]
    }
   ],
   "source": [
    "import numpy as np\n",
    "from scipy import stats\n",
    "\n",
    "# 假设 model_a 和 model_b 各运行了 5 次实验\n",
    "model_a = np.array([0.1021, 0.1026, 0.1024, 0.1018, 0.1020])  # 准确率\n",
    "model_b = np.array([0.1003, 0.1007, 0.0993, 0.0996, 0.0995])\n",
    "print(model_a.mean())\n",
    "print(model_b.mean())\n",
    "# 配对样本 t 检验（假设是同一数据集下交叉验证）\n",
    "t_statistic, p_value = stats.ttest_rel(model_a, model_b)\n",
    "\n",
    "print(f\"t-statistic: {t_statistic:.4f}\")\n",
    "print(f\"p-value: {p_value:.4f}\")\n",
    "\n",
    "if p_value < 0.05:\n",
    "    print(\"结论：两组结果存在显著差异\")\n",
    "else:\n",
    "    print(\"结论：两组结果无显著差异\")"
   ]
  },
  {
   "cell_type": "code",
   "execution_count": 1,
   "id": "90a99e91",
   "metadata": {},
   "outputs": [
    {
     "name": "stdout",
     "output_type": "stream",
     "text": [
      "每组的平均值 recall_dird：\n",
      "    group    col_19\n",
      "0    0-4  0.102320\n",
      "1    5-9  0.103273\n",
      "2  10-14  0.103104\n",
      "3  15-19  0.096806\n",
      "4   >=20  0.086184\n",
      "每组的平均值 ndcg_dird：\n",
      "    group    col_19\n",
      "0    0-4  0.047043\n",
      "1    5-9  0.044450\n",
      "2  10-14  0.047491\n",
      "3  15-19  0.046168\n",
      "4   >=20  0.049586\n",
      "每组的平均值 recall：\n",
      "    group    col_19\n",
      "0    0-4  0.095574\n",
      "1    5-9  0.097480\n",
      "2  10-14  0.096729\n",
      "3  15-19  0.091816\n",
      "4   >=20  0.098305\n",
      "每组的平均值 ndcg：\n",
      "    group    col_19\n",
      "0    0-4  0.042803\n",
      "1    5-9  0.041433\n",
      "2  10-14  0.046929\n",
      "3  15-19  0.045944\n",
      "4   >=20  0.054282\n"
     ]
    }
   ],
   "source": [
    "import numpy as np\n",
    "import pandas as pd\n",
    "\n",
    "def compute_group(zero_num, rec_ret, name):\n",
    "    list_array = np.array(zero_num).reshape(-1, 1)\n",
    "\n",
    "    data = np.hstack((rec_ret, list_array))\n",
    "\n",
    "    # 定义分组区间\n",
    "    bins = [-1, 4, 9, 14, 19, np.inf]\n",
    "    labels = ['0-4', '5-9', '10-14', '15-19', '>=20']\n",
    "\n",
    "    # 创建一个分组标签\n",
    "    binned = pd.cut(data[:, 50], bins=bins, labels=labels)\n",
    "\n",
    "    # 构造 DataFrame 更方便操作\n",
    "    df = pd.DataFrame(data, columns=[f'col_{i}' for i in range(51)])\n",
    "    df['group'] = binned\n",
    "\n",
    "    # 按 group 分组，并计算 col_1 的平均值\n",
    "    result = df.groupby('group')['col_19'].mean().reset_index()\n",
    "\n",
    "    print(f\"每组的平均值 {name}：\\n {result}\")\n",
    "\n",
    "zero_num = np.load('zero_num_dird.npy',allow_pickle=True)\n",
    "rec_ret_dird = np.load('rec_ret_dird.npy', allow_pickle=True)\n",
    "ndcg_ret_dird = np.load('ndcg_ret_dird.npy', allow_pickle=True)\n",
    "recall = compute_group(zero_num, rec_ret_dird, \"recall_dird\")\n",
    "ndcg = compute_group(zero_num, ndcg_ret_dird, \"ndcg_dird\")\n",
    "\n",
    "rec_ret = np.load('rec_ret.npy', allow_pickle=True)\n",
    "ndcg_ret = np.load('ndcg_ret.npy', allow_pickle=True)\n",
    "recall = compute_group(zero_num, rec_ret, \"recall\")\n",
    "ndcg = compute_group(zero_num, ndcg_ret, \"ndcg\")\n"
   ]
  }
 ],
 "metadata": {
  "kernelspec": {
   "display_name": "torch",
   "language": "python",
   "name": "python3"
  },
  "language_info": {
   "codemirror_mode": {
    "name": "ipython",
    "version": 3
   },
   "file_extension": ".py",
   "mimetype": "text/x-python",
   "name": "python",
   "nbconvert_exporter": "python",
   "pygments_lexer": "ipython3",
   "version": "3.7.13"
  }
 },
 "nbformat": 4,
 "nbformat_minor": 5
}
